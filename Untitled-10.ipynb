{
 "cells": [
  {
   "cell_type": "code",
   "execution_count": 1,
   "metadata": {},
   "outputs": [
    {
     "name": "stdout",
     "output_type": "stream",
     "text": [
      "Tiga nilai terbesar dalam list: [25, 20, 18]\n"
     ]
    }
   ],
   "source": [
    "def find_three_largest(numbers):\n",
    "    sorted_numbers = sorted(numbers, reverse=True)\n",
    "    \n",
    "    three_largest = sorted_numbers[:3]\n",
    "    \n",
    "    return three_largest\n",
    "\n",
    "my_list = [10, 5, 8, 20, 15, 3, 18, 25, 7, 12]\n",
    "result = find_three_largest(my_list)\n",
    "print(\"Tiga nilai terbesar dalam list:\", result)"
   ]
  },
  {
   "cell_type": "code",
   "execution_count": 2,
   "metadata": {},
   "outputs": [
    {
     "name": "stdout",
     "output_type": "stream",
     "text": [
      "Nilai maksimum: 48.0\n",
      "Nilai minimum: 2.0\n"
     ]
    }
   ],
   "source": [
    "numbers = []\n",
    "\n",
    "while True:\n",
    "    user_input = input(\"Masukkan sebuah angka (atau 'done' untuk berhenti): \")\n",
    "    \n",
    "    if user_input.lower() == 'done':\n",
    "        break\n",
    "    \n",
    "    try:\n",
    "        num = float(user_input)\n",
    "    except ValueError:\n",
    "        print(\"Input tidak valid, masukkan angka atau 'done'\")\n",
    "        continue\n",
    "    \n",
    "    numbers.append(num)\n",
    "\n",
    "if numbers:\n",
    "    max_value = max(numbers)\n",
    "    min_value = min(numbers)\n",
    "    print(f\"Nilai maksimum: {max_value}\")\n",
    "    print(f\"Nilai minimum: {min_value}\")\n",
    "else:\n",
    "    print(\"Tidak ada angka yang dimasukkan.\")"
   ]
  },
  {
   "cell_type": "code",
   "execution_count": 1,
   "metadata": {},
   "outputs": [
    {
     "name": "stdout",
     "output_type": "stream",
     "text": [
      "Kata Unik pada Berita: ['Kimberley', 'Fransa', 'Salim', 'telah', 'resmi', 'diumumkan', 'sebagai', 'main', 'vocal', 'girl', 'grup', 'KPop', 'VVUP', 'Juara', '3', 'The', 'Voice', 'Kids', 'Indonesia', 'Season', '2', 'ini', 'akan', 'debut', 'dengan', 'nama', 'panggung', 'Kim', 'menyusul', 'Dita', 'Karang', 'Secret', 'Number', 'dan', 'Zayyan', 'XODIAC', 'Pada', 'Selasa', '272', 'memperkenalkan', 'member', 'kedua', 'mereka', 'melalui', 'media', 'sosial', 'membagikan', 'foto', 'teaser', 'yang', 'menunjukkan', 'citra', 'unik', 'semangat', 'mudanya', 'Berdasarkan', 'tersebut', 'mengusung', 'tema', 'retro', 'untuk', 'debutnya', 'informasi', 'berasal', 'dari', 'lahir', 'tahun', '2006', 'Nantinya', 'ia', 'mendapat', 'peran', 'penting', 'vocalist', 'karena', 'punya', 'bakat', 'menyanyi', 'luar', 'biasa', 'Sebelumnya', 'dikenal', 'sejak', 'mengikuti', 'beberapa', 'ajang', 'pencarian', 'di', 'berhasil', 'keluar', 'runnerup', 'dalam', 'program', 'Indonesian', 'next', 'Big', 'Star', 'menjadi', 'tiga', 'rekam', 'jejak', 'demikian', 'kemampuan', 'vokalnya', 'pun', 'semakin', 'diantisipasi']\n"
     ]
    }
   ],
   "source": [
    "with open('berita.txt', 'r') as file:\n",
    "    isi_berita = file.read()\n",
    "\n",
    "kalimat = isi_berita.split('. ')\n",
    "\n",
    "kata_unik = []\n",
    "\n",
    "for kalimat_tunggal in kalimat:\n",
    "    kata = kalimat_tunggal.split()\n",
    "    \n",
    "    for kata_tunggal in kata:\n",
    "        kata_tunggal = ''.join(c for c in kata_tunggal if c.isalnum())\n",
    "        \n",
    "        if kata_tunggal.lower() not in [k.lower() for k in kata_unik]:\n",
    "            kata_unik.append(kata_tunggal)\n",
    "\n",
    "print(\"Kata Unik pada Berita:\", kata_unik)"
   ]
  }
 ],
 "metadata": {
  "kernelspec": {
   "display_name": "Python 3",
   "language": "python",
   "name": "python3"
  },
  "language_info": {
   "codemirror_mode": {
    "name": "ipython",
    "version": 3
   },
   "file_extension": ".py",
   "mimetype": "text/x-python",
   "name": "python",
   "nbconvert_exporter": "python",
   "pygments_lexer": "ipython3",
   "version": "3.12.0"
  }
 },
 "nbformat": 4,
 "nbformat_minor": 2
}
